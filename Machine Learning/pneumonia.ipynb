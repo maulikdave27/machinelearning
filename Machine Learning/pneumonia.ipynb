{
 "cells": [
  {
   "cell_type": "code",
   "execution_count": 1,
   "metadata": {},
   "outputs": [],
   "source": [
    "from keras.models import Sequential\n",
    "from keras.layers import Conv2D\n",
    "from keras.layers import MaxPooling2D\n",
    "from keras.layers import Flatten\n",
    "from keras.layers import Dense\n",
    "from keras.preprocessing.image import ImageDataGenerator\n",
    "import numpy as np\n",
    "from keras.preprocessing import image\n",
    "import os\n",
    "import matplotlib.pyplot as plt\n",
    "import cv2"
   ]
  },
  {
   "cell_type": "code",
   "execution_count": 2,
   "metadata": {},
   "outputs": [],
   "source": [
    "img_dims = 64\n",
    "batch_size = 32"
   ]
  },
  {
   "cell_type": "code",
   "execution_count": 3,
   "metadata": {},
   "outputs": [],
   "source": [
    "classifier = Sequential()\n",
    "classifier.add(Conv2D(32, (3, 3), input_shape = (img_dims, img_dims, 3), activation = 'relu'))\n",
    "classifier.add(MaxPooling2D(pool_size = (2, 2)))\n",
    "classifier.add(Flatten())\n",
    "classifier.add(Dense(units = 128, activation = 'relu'))\n",
    "classifier.add(Dense(units = 1, activation = 'sigmoid'))"
   ]
  },
  {
   "cell_type": "code",
   "execution_count": 4,
   "metadata": {},
   "outputs": [],
   "source": [
    "classifier.compile(optimizer = 'adam', loss = 'binary_crossentropy', metrics = ['accuracy'])"
   ]
  },
  {
   "cell_type": "code",
   "execution_count": 8,
   "metadata": {},
   "outputs": [
    {
     "name": "stdout",
     "output_type": "stream",
     "text": [
      "Found 5216 images belonging to 2 classes.\n",
      "Found 624 images belonging to 2 classes.\n"
     ]
    }
   ],
   "source": [
    "input_path = '/Users/maulikdave/Documents/pneumonia_pred/chest_xray/'\n",
    "train_datagen = ImageDataGenerator(rescale = 1./255,\n",
    "shear_range = 0.2,\n",
    "zoom_range = 0.2,\n",
    "horizontal_flip = True)\n",
    "test_datagen = ImageDataGenerator(rescale = 1./255)\n",
    "training_set = train_datagen.flow_from_directory(directory=input_path+'train',\n",
    "target_size = (img_dims, img_dims),\n",
    "batch_size = batch_size,\n",
    "class_mode = 'binary')\n",
    "test_set = test_datagen.flow_from_directory(directory=input_path+'test',\n",
    "target_size = (img_dims, img_dims),\n",
    "batch_size = batch_size,\n",
    "class_mode = 'binary')\n"
   ]
  },
  {
   "cell_type": "code",
   "execution_count": 9,
   "metadata": {},
   "outputs": [
    {
     "name": "stderr",
     "output_type": "stream",
     "text": [
      "/var/folders/k7/lxc2kmqn22ng6_3m7gxwv0m80000gn/T/ipykernel_6709/3841266858.py:2: UserWarning: `Model.fit_generator` is deprecated and will be removed in a future version. Please use `Model.fit`, which supports generators.\n",
      "  hist = classifier.fit_generator(            training_set, steps_per_epoch=training_set.samples // batch_size,             epochs=epochs, validation_data=test_set,             validation_steps= test_set.samples)\n"
     ]
    },
    {
     "name": "stdout",
     "output_type": "stream",
     "text": [
      "Epoch 1/10\n",
      "163/163 [==============================] - ETA: 0s - loss: 0.3645 - accuracy: 0.8566WARNING:tensorflow:Your input ran out of data; interrupting training. Make sure that your dataset or generator can generate at least `steps_per_epoch * epochs` batches (in this case, 624 batches). You may need to use the repeat() function when building your dataset.\n",
      "163/163 [==============================] - 30s 181ms/step - loss: 0.3645 - accuracy: 0.8566 - val_loss: 0.4056 - val_accuracy: 0.8061\n",
      "Epoch 2/10\n",
      "163/163 [==============================] - 27s 163ms/step - loss: 0.2337 - accuracy: 0.9089\n",
      "Epoch 3/10\n",
      "163/163 [==============================] - 28s 174ms/step - loss: 0.1921 - accuracy: 0.9220\n",
      "Epoch 4/10\n",
      "163/163 [==============================] - 29s 177ms/step - loss: 0.1893 - accuracy: 0.9258\n",
      "Epoch 5/10\n",
      "163/163 [==============================] - 28s 174ms/step - loss: 0.1643 - accuracy: 0.9369\n",
      "Epoch 6/10\n",
      "163/163 [==============================] - 28s 172ms/step - loss: 0.1579 - accuracy: 0.9350\n",
      "Epoch 7/10\n",
      "163/163 [==============================] - 28s 169ms/step - loss: 0.1539 - accuracy: 0.9431\n",
      "Epoch 8/10\n",
      "163/163 [==============================] - 27s 165ms/step - loss: 0.1493 - accuracy: 0.9421\n",
      "Epoch 9/10\n",
      "163/163 [==============================] - 28s 170ms/step - loss: 0.1372 - accuracy: 0.9503\n",
      "Epoch 10/10\n",
      "163/163 [==============================] - 28s 170ms/step - loss: 0.1289 - accuracy: 0.9505\n"
     ]
    }
   ],
   "source": [
    "epochs = 10  \n",
    "hist = classifier.fit_generator(            training_set, steps_per_epoch=training_set.samples // batch_size,             epochs=epochs, validation_data=test_set,             validation_steps= test_set.samples)"
   ]
  },
  {
   "cell_type": "code",
   "execution_count": 10,
   "metadata": {},
   "outputs": [],
   "source": [
    "import numpy as np\n",
    "from keras.preprocessing import image\n",
    "import os"
   ]
  },
  {
   "cell_type": "code",
   "execution_count": 29,
   "metadata": {},
   "outputs": [],
   "source": [
    "path=input(\"Enter the file path: \")\n",
    "img=image.load_img(path, target_size=(64, 64))\n",
    "x=image.img_to_array(img)\n",
    "x=np.expand_dims(x,axis=0)"
   ]
  },
  {
   "cell_type": "code",
   "execution_count": 30,
   "metadata": {},
   "outputs": [
    {
     "name": "stdout",
     "output_type": "stream",
     "text": [
      "1/1 [==============================] - 0s 15ms/step\n",
      "[[1.]]\n",
      "[1.]\n"
     ]
    }
   ],
   "source": [
    "image_tensor=np.vstack([x])\n",
    "classes= classifier.predict(image_tensor)\n",
    "print(classes)\n",
    "print(classes[0])\n"
   ]
  },
  {
   "cell_type": "code",
   "execution_count": 31,
   "metadata": {},
   "outputs": [
    {
     "name": "stdout",
     "output_type": "stream",
     "text": [
      "Infected\n"
     ]
    }
   ],
   "source": [
    "if classes[0]==0:\n",
    "    print(\"Healthy\")\n",
    "else if:\n",
    "    print(\"Infected\")"
   ]
  }
 ],
 "metadata": {
  "kernelspec": {
   "display_name": "Python 3",
   "language": "python",
   "name": "python3"
  },
  "language_info": {
   "codemirror_mode": {
    "name": "ipython",
    "version": 3
   },
   "file_extension": ".py",
   "mimetype": "text/x-python",
   "name": "python",
   "nbconvert_exporter": "python",
   "pygments_lexer": "ipython3",
   "version": "3.11.4"
  },
  "orig_nbformat": 4
 },
 "nbformat": 4,
 "nbformat_minor": 2
}
